{
 "cells": [
  {
   "cell_type": "code",
   "execution_count": 1,
   "id": "ec7ecbc3-295b-4f11-b7de-e053f4d3852b",
   "metadata": {},
   "outputs": [],
   "source": [
    "import time\n",
    "import requests\n",
    "from bs4 import BeautifulSoup\n",
    "import pandas as pd"
   ]
  },
  {
   "cell_type": "code",
   "execution_count": 2,
   "id": "d672a7d2-6174-4cbd-909b-769a312923f3",
   "metadata": {},
   "outputs": [],
   "source": [
    "fp = open('MovieLinks.txt')\n",
    "headers = {'User-Agent': 'Mozilla/5.0 (Windows NT 10.0; Win64; x64) AppleWebKit/537.36 (KHTML, like Gecko) Chrome/115.0.0.0 Safari/537.36'}\n",
    "URLList = []"
   ]
  },
  {
   "cell_type": "code",
   "execution_count": 3,
   "id": "6a441d28-a742-431f-af9e-bedb73e1032c",
   "metadata": {},
   "outputs": [],
   "source": [
    "# Make a list of all URLs\n",
    "for line in fp.readlines():\n",
    "    URLList.append(line.strip()) # strip() is used to remove the trailing characters that might interfere in making requests\n",
    "fp.close()"
   ]
  },
  {
   "cell_type": "code",
   "execution_count": 4,
   "id": "508de064-ac91-4d19-98e2-7189d5921cb9",
   "metadata": {},
   "outputs": [],
   "source": [
    "# Iterate through the links and create a dictionary item for each movie (URL, Name and Rating)\n",
    "# Append each movie's dictionary item to the movies list\n",
    "movies = []\n",
    "for link in URLList:\n",
    "    response = requests.get(link, headers=headers)\n",
    "    soup = BeautifulSoup(response.content, \"html.parser\")\n",
    "    movie = {}\n",
    "    movie['URL'] = link\n",
    "    movie['Name'] = soup.find('span', attrs={'class':'sc-afe43def-1 fDTGTb'}).text\n",
    "    rating = soup.find('span', attrs={'class':'sc-bde20123-1 iZlgcd'}).text\n",
    "    movie['Rating'] = float(rating)\n",
    "    movies.append(movie)\n",
    "    time.sleep(1)"
   ]
  },
  {
   "cell_type": "code",
   "execution_count": 5,
   "id": "09d7e652-f222-4cdf-b40e-37313a803af6",
   "metadata": {},
   "outputs": [],
   "source": [
    "# Create a dataframe from the list 'movies' which stores all movie details as dictionaries\n",
    "df = pd.DataFrame.from_dict(movies)\n",
    "# Export the Scraped data as an excel file\n",
    "df.to_excel('Movies.xlsx')"
   ]
  }
 ],
 "metadata": {
  "kernelspec": {
   "display_name": "Python 3 (ipykernel)",
   "language": "python",
   "name": "python3"
  },
  "language_info": {
   "codemirror_mode": {
    "name": "ipython",
    "version": 3
   },
   "file_extension": ".py",
   "mimetype": "text/x-python",
   "name": "python",
   "nbconvert_exporter": "python",
   "pygments_lexer": "ipython3",
   "version": "3.11.5"
  }
 },
 "nbformat": 4,
 "nbformat_minor": 5
}
