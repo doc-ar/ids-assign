{
 "cells": [
  {
   "cell_type": "code",
   "execution_count": 1,
   "id": "c328b8e1-794e-4cea-a8ef-1484c968f793",
   "metadata": {},
   "outputs": [],
   "source": [
    "import re\n",
    "import codecs\n",
    "import requests\n",
    "from bs4 import BeautifulSoup"
   ]
  },
  {
   "cell_type": "code",
   "execution_count": 2,
   "id": "df618fb2-f26d-4218-a36f-7a2ab944cb37",
   "metadata": {},
   "outputs": [],
   "source": [
    "# Opening a file for use\n",
    "fp = codecs.open('out.txt', mode=\"w\", encoding=\"utf8\")"
   ]
  },
  {
   "cell_type": "code",
   "execution_count": 3,
   "id": "77a8048a-6fe1-4ab0-9291-29c57d260e66",
   "metadata": {},
   "outputs": [],
   "source": [
    "# Preliminary Setup for Scraping\n",
    "birth_month = 'september'\n",
    "birth_day = '2'"
   ]
  },
  {
   "cell_type": "code",
   "execution_count": 4,
   "id": "126ff0f9-c8bf-4b1a-bfbb-04c7cda2916c",
   "metadata": {},
   "outputs": [],
   "source": [
    "url1 = 'https://www.timeanddate.com/on-this-day/' + birth_month + '/' + birth_day\n",
    "response1 = requests.get(url1)\n",
    "soup1 = BeautifulSoup(response1.content, 'html.parser')"
   ]
  },
  {
   "cell_type": "code",
   "execution_count": 5,
   "id": "820bbd71-152e-4b09-9f07-85d55ea9df56",
   "metadata": {},
   "outputs": [],
   "source": [
    "url2 = 'https://www.britannica.com/on-this-day/' + birth_month + '-' + birth_day\n",
    "response2 = requests.get(url2)\n",
    "soup2 = BeautifulSoup(response2.content, 'html.parser')"
   ]
  },
  {
   "cell_type": "code",
   "execution_count": 6,
   "id": "ca5ef1c6-d719-4e2c-ab65-70ba01933cf6",
   "metadata": {},
   "outputs": [],
   "source": [
    "# Extracting and writing all shared-birthdays\n",
    "table = soup1.select_one('div.otd-life__block:nth-child(1) > ul.list--big')\n",
    "fp.write('----------------------- Shared Birthdays -----------------------\\n')\n",
    "for row in table.findAll('h3', attrs={'class':'otd-title'}):\n",
    "    fp.write('* ' + row.text + '\\n')"
   ]
  },
  {
   "cell_type": "code",
   "execution_count": 7,
   "id": "51ef15bf-85a3-4374-b36a-ad3ab779558f",
   "metadata": {},
   "outputs": [],
   "source": [
    "# Extracting and writing all the historical events\n",
    "table = soup2.select('div.md-history-event.card.d-flex.mb-20.flex-column.flex-sm-row > div.card-body.font-serif')\n",
    "fp.write('\\n\\n----------------------- Historical Events -----------------------\\n')\n",
    "for row in table:\n",
    "    text = row.text.partition('.')[0] + '.'\n",
    "    text = re.sub('[\\u02bf]*', '', text)\n",
    "    text = text.lstrip()\n",
    "    fp.write('* ' + text + '\\n')"
   ]
  },
  {
   "cell_type": "code",
   "execution_count": 8,
   "id": "37586701-33bc-42f1-ae40-a4800c131f22",
   "metadata": {},
   "outputs": [],
   "source": [
    "# Close the txt file\n",
    "fp.close()"
   ]
  }
 ],
 "metadata": {
  "kernelspec": {
   "display_name": "Python 3 (ipykernel)",
   "language": "python",
   "name": "python3"
  },
  "language_info": {
   "codemirror_mode": {
    "name": "ipython",
    "version": 3
   },
   "file_extension": ".py",
   "mimetype": "text/x-python",
   "name": "python",
   "nbconvert_exporter": "python",
   "pygments_lexer": "ipython3",
   "version": "3.11.5"
  }
 },
 "nbformat": 4,
 "nbformat_minor": 5
}
